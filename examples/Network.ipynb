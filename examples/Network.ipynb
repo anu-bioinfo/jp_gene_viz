{
 "cells": [
  {
   "cell_type": "markdown",
   "metadata": {},
   "source": [
    "# The Network Widget\n",
    "\n",
    "The following cells illustrate how to create a visualization for a\n",
    "transcriptional regulatory network using a data file in tab separated values\n",
    "format.\n",
    "\n",
    "Please see [the network overview documentation notebook](../doc/dNetwork%20widget%20overview.ipynb)\n",
    "for a description of the features of this widget."
   ]
  },
  {
   "cell_type": "code",
   "execution_count": null,
   "metadata": {
    "collapsed": true
   },
   "outputs": [],
   "source": [
    "# Uncomment to run without install in the Binder service.\n",
    "import sys\n",
    "#if \"..\" not in sys.path:\n",
    "#    sys.path.append(\"..\")"
   ]
  },
  {
   "cell_type": "code",
   "execution_count": null,
   "metadata": {},
   "outputs": [],
   "source": [
    "# Import the python implementation.\n",
    "from jp_gene_viz import dNetwork"
   ]
  },
  {
   "cell_type": "code",
   "execution_count": null,
   "metadata": {},
   "outputs": [],
   "source": [
    "# Load the javascript \"client side\" support logic.\n",
    "dNetwork.load_javascript_support()"
   ]
  },
  {
   "cell_type": "code",
   "execution_count": null,
   "metadata": {},
   "outputs": [],
   "source": [
    "# Load and display the network.\n",
    "N = dNetwork.display_network(\"network.tsv\")\n",
    "N.title_html.value = \"An example regulatory network\""
   ]
  },
  {
   "cell_type": "markdown",
   "metadata": {},
   "source": [
    "### Programmatic configuration and layout of the network widget\n",
    "\n",
    "The network widget can be configured using script fragments.  For example the following\n",
    "fragment displays the Egr3 gene and genes directly related to Egr3 arranged in a circular\n",
    "layout."
   ]
  },
  {
   "cell_type": "code",
   "execution_count": null,
   "metadata": {
    "collapsed": true
   },
   "outputs": [],
   "source": [
    "import math\n",
    "\n",
    "def Egr3_circle():\n",
    "    # make sure labels are visible:\n",
    "    N.labels_button.value = True\n",
    "    # Programattically select only those elements directly connected to Egr3:\n",
    "    focus = \"Egr3\"\n",
    "    N.select_and_draw([focus])\n",
    "    N.expand_click()\n",
    "    # Use the SVG interactive container:\n",
    "    N.container_dropdown.value = \"SVG\"\n",
    "    # arrange the visible nodes in a circle\n",
    "    nodes = sorted(N.display_graph.node_weights.keys())\n",
    "    dtheta = 2 * math.pi / len(nodes)\n",
    "    theta = 0\n",
    "    radius = 50\n",
    "    layout = {}\n",
    "    for node in nodes:\n",
    "        theta += dtheta\n",
    "        layout[node] = (math.sin(theta) * radius, math.cos(theta) * radius)\n",
    "    N.select_layout(layout)\n",
    "    \n",
    "# run the customization.  Scroll up to view the effect on the widget.\n",
    "Egr3_circle()"
   ]
  },
  {
   "cell_type": "markdown",
   "metadata": {},
   "source": [
    "### Custom colorization\n",
    "\n",
    "The following function demonstrates how the node and edge weights and network colorization\n",
    "may be adjusted to special purpose values.  Such colorization may be useful\n",
    "to highlight node or edge groups of special interest, or for other purposes."
   ]
  },
  {
   "cell_type": "code",
   "execution_count": null,
   "metadata": {
    "collapsed": true
   },
   "outputs": [],
   "source": [
    "# randomly reset the weight to integers 0..10\n",
    "\n",
    "def adjust_colorization():\n",
    "    import random\n",
    "    G = N.display_graph\n",
    "    nw = G.node_weights\n",
    "    for node in nw.keys():\n",
    "        nw[node] = random.randint(0, 10)\n",
    "    ew = G.edge_weights\n",
    "    for edge in ew.keys():\n",
    "        ew[edge] = random.randint(0,10)\n",
    "    # Use Emily's color scheme, please refer to the source code for more information.\n",
    "    dNetwork.set_node_color_levels(N)\n",
    "    dNetwork.set_edge_color_levels(N)\n",
    "    # redraw\n",
    "    N.draw()"
   ]
  },
  {
   "cell_type": "code",
   "execution_count": null,
   "metadata": {
    "collapsed": true
   },
   "outputs": [],
   "source": [
    "# Uncomment to change the network colorization.  Scroll up to view the effect on the widget.\n",
    "adjust_colorization()"
   ]
  },
  {
   "cell_type": "code",
   "execution_count": null,
   "metadata": {
    "collapsed": true
   },
   "outputs": [],
   "source": []
  }
 ],
 "metadata": {
  "kernelspec": {
   "display_name": "Python 2",
   "language": "python",
   "name": "python2"
  },
  "language_info": {
   "codemirror_mode": {
    "name": "ipython",
    "version": 2
   },
   "file_extension": ".py",
   "mimetype": "text/x-python",
   "name": "python",
   "nbconvert_exporter": "python",
   "pygments_lexer": "ipython2",
   "version": "2.7.13"
  },
  "widgets": {
   "state": {
    "00aa1f09429c494c97aa4bdb92db0ddf": {
     "views": []
    },
    "00d27206093a4ea9a44b6531449674ca": {
     "views": []
    },
    "01942ed2e5214064b32d91c951a8aa75": {
     "views": []
    },
    "01de48a3e321481bac5a59dcf8c8f3c7": {
     "views": []
    },
    "025ecb58f2d542b2a9b20187a78c0e3b": {
     "views": []
    },
    "035e0462b1e3451a89f428f2a69ea56a": {
     "views": []
    },
    "03ec97c044a4469d925f237abe0c033b": {
     "views": []
    },
    "040974b98e0941528dc8d4d09631b35a": {
     "views": []
    },
    "083d1769436a4b6584603a60dee83e42": {
     "views": []
    },
    "093152e8c99e46ca9a5ae5e3cba73fd6": {
     "views": []
    },
    "09858faf4acb4a889055142ba25787c3": {
     "views": []
    },
    "09ee971ac15c4edcb41824bfb76e5a8f": {
     "views": []
    },
    "0a30290ba5934008a3f6257192d5a74b": {
     "views": []
    },
    "0acdcc57d7824c2d932027eb82f1df05": {
     "views": []
    },
    "0c5ee5e08cd4487ebacdfb0a51ee85ab": {
     "views": []
    },
    "0c695dda056940ee8e66c50e6a75b53a": {
     "views": []
    },
    "0da3c1d7825b481780459f6b806e1f79": {
     "views": []
    },
    "10d3d6437981439d8e81e0deeaf0052f": {
     "views": []
    },
    "1121c8bcd6354b3a8b11b9109c7aab26": {
     "views": []
    },
    "133b51969c2b40f49355451aa0f777f1": {
     "views": []
    },
    "1955886ae4d94f80a1d4d648e6ea9d2c": {
     "views": []
    },
    "1986bc2c24d24a20bab0bd2cb6156f04": {
     "views": []
    },
    "1c210d08c3a34ec8ad4f5d1595721741": {
     "views": []
    },
    "1cdefc9b54ab41cbabd65d2b85c4544d": {
     "views": []
    },
    "1e57251b6a2b4619a9c59ee3253ad0c8": {
     "views": []
    },
    "1fc1f759349a475c818f3a27adacdd4d": {
     "views": []
    },
    "20a49e3739004259a0060330ca3a839c": {
     "views": []
    },
    "239176354a334ee7b2bebdb08fc6f9f1": {
     "views": []
    },
    "2479bcd3a66c4f2ab37a326ef3440f9f": {
     "views": []
    },
    "2493eaa5e40f4ae8956cdbba280fd530": {
     "views": []
    },
    "2637230ca7574bf3997c6555f50ffa43": {
     "views": []
    },
    "266d44b344364659be0f24a5fc15d2c6": {
     "views": []
    },
    "274abb73741846bb909faceb87976d10": {
     "views": []
    },
    "27eb18a2b10d4eb6a95dac72287ed1c7": {
     "views": []
    },
    "2a20494cff764ea092a3918e8af58824": {
     "views": []
    },
    "2b703eb5d17240c397e1bd70ca3fb79e": {
     "views": [
      {
       "cell_index": 4
      }
     ]
    },
    "2d5276ccbde3491baee3cd93db0f2f68": {
     "views": []
    },
    "2ee74da532af46658496591c6dc94d72": {
     "views": []
    },
    "2fd348a9f9bb49ef824b1dd13bc02135": {
     "views": []
    },
    "33522eff9c9542ae9c0e9a15917c5557": {
     "views": []
    },
    "3654f62847bf49d79bbd7bce31c2f275": {
     "views": []
    },
    "36a3aa87f54b48848b21cbdfc66dd241": {
     "views": []
    },
    "39360a578e84437d8abd7567a76c6c74": {
     "views": []
    },
    "39936c6697164b849d8239eefe2e480c": {
     "views": []
    },
    "3f955a76cd7345d8aa8defb2537ea688": {
     "views": []
    },
    "40145199e8c14f04b60b040963b549f2": {
     "views": []
    },
    "42e50d1887a24f99b1db359a03701091": {
     "views": []
    },
    "45aa403693804d93954ed46400915e49": {
     "views": []
    },
    "47cb3dcea0374a559657883244c75070": {
     "views": []
    },
    "48d2a654b8204f8c9fb2bf43c4410c95": {
     "views": []
    },
    "48da74ed33c44cb9ae727ad8725bef86": {
     "views": []
    },
    "4a47c043a6414616b40b4c54d23f76a1": {
     "views": []
    },
    "4ce4035003204772b6f3357bc586247a": {
     "views": []
    },
    "4d2b41d137244759832a4eb55e8d155e": {
     "views": []
    },
    "4e43e0bdb4ef4d9589ae9e2968424f71": {
     "views": []
    },
    "54a71cd2c5674ba0862f4a670bd08f83": {
     "views": []
    },
    "5a032e63e32f4f9db4495a8439395f79": {
     "views": []
    },
    "5a2901a220cf4c51a611b29eb5a8a5a4": {
     "views": []
    },
    "5a87f0f6079d4c779580540ae4425ad0": {
     "views": []
    },
    "5c2b3d74b57940b49ea55ea4a4423a75": {
     "views": []
    },
    "5cdbe79a05af4bd3b758a6f5e9f126ae": {
     "views": []
    },
    "5e54c595c6d2464c919e600243d1ce6f": {
     "views": []
    },
    "5ec886620f8e4296bdea1d386d4e64d6": {
     "views": []
    },
    "63b9e59a22374c279540cd4597cf5dca": {
     "views": []
    },
    "664c5c79fb294b699af5475c2c9991b5": {
     "views": []
    },
    "6685e79542714235a39e2a2ee18ba40f": {
     "views": []
    },
    "6690ec6c7de544e18f1867f650bc0419": {
     "views": []
    },
    "68aa49659575442d964f564ee49dd1b9": {
     "views": []
    },
    "6ee56238bcbf47eb9f6f85421bea2563": {
     "views": []
    },
    "6f8073cbfdcd461b93058ff50e8f00a3": {
     "views": []
    },
    "7881fb849d1844b7a37f6dc75317de81": {
     "views": []
    },
    "788fd2fa41284699a81f0af8008c0160": {
     "views": []
    },
    "8393a09acd1d4946a715626f1eb90e65": {
     "views": []
    },
    "84832c04ee5742ba9601ed3658720ccc": {
     "views": []
    },
    "84ddea95f84a471ea719ba5953a294bc": {
     "views": []
    },
    "86acf53264ce4d96985b7156d7171b80": {
     "views": []
    },
    "86dbd73d9b084527bc96448f969e143a": {
     "views": []
    },
    "8bca377332c441f4bcf7b75f87bfd13c": {
     "views": []
    },
    "8c6ee996e696444bb855cf58bcab1071": {
     "views": []
    },
    "8c9429c10cc848a6ac5b835b669d40ac": {
     "views": []
    },
    "8dbf412940e74cc9b973a945602ef377": {
     "views": []
    },
    "8f9e09b84b364386a242764d2ea21bae": {
     "views": []
    },
    "920bddd52aa342f68ad86648214d3e90": {
     "views": []
    },
    "922d5da430094311bf4d14c07bf9217a": {
     "views": []
    },
    "9235807e652946ce993e6a8c2054edd0": {
     "views": []
    },
    "947c2684481f46a082781e09cdbf1e39": {
     "views": []
    },
    "96355ed574fc4f859a71841b2f4498b7": {
     "views": []
    },
    "976a54beda7e469e8915f714a13b4aa2": {
     "views": []
    },
    "9b6ed68083954cd3ac235bf15dd3287a": {
     "views": []
    },
    "9da350ab4285439db838c2ee43e259a1": {
     "views": []
    },
    "9f4070bf47c645c9b62e415b912a8da1": {
     "views": []
    },
    "a0406828d25a4a1b83c511b9de8a98ff": {
     "views": []
    },
    "a27ff8e14bde4bb9a0ff29870f445f30": {
     "views": []
    },
    "a79fcba5b92d437f91d4a303c651d127": {
     "views": []
    },
    "a8619f1c112044c98e8668cd4e141e67": {
     "views": []
    },
    "aa8aa747187741ca8129135d0c21e838": {
     "views": []
    },
    "ac5aa06e90524ea8bf23f01d9d5a5f3d": {
     "views": []
    },
    "ad9b41dcda3c44bc9675d69cdcc5420e": {
     "views": []
    },
    "b07513b459cf451397bdf5f20bc9880b": {
     "views": []
    },
    "b0d18928e4ca4a7184d48bac819044f4": {
     "views": []
    },
    "b57ae474d10844fea7db1fba3f790886": {
     "views": []
    },
    "b6cef2e4caa3411b97e36ed8adb8d26a": {
     "views": []
    },
    "b727335bddc744faa56e94022ea60261": {
     "views": []
    },
    "ba89e41cd5eb4756a1fcc43be8b1730a": {
     "views": []
    },
    "bce095c0181746dfab46870ff9a20e85": {
     "views": []
    },
    "be09cdd056be4a3885e8131237c8e17a": {
     "views": []
    },
    "c1ec2ea82ae7475e9a657b0a22d7af2d": {
     "views": []
    },
    "c2d5e3dfabcc41508be2c13c1b6b2ac8": {
     "views": []
    },
    "c411f93acbf34dc5ac0bfb6696c0c6a2": {
     "views": []
    },
    "c942d13b45e745d89ea83d9eb2056444": {
     "views": []
    },
    "ca0fc764198140a7b067e6a6fa61bb31": {
     "views": []
    },
    "cbcd12246ff5424f9ad0972a839297d1": {
     "views": []
    },
    "ccd748e161454692b33c902ad80f07ac": {
     "views": []
    },
    "ce63557aa0e045ee9d90259e618b6dae": {
     "views": []
    },
    "cf79a530376244559dfb4d07340a1821": {
     "views": []
    },
    "d177c2c6b68e43f68c744f39bc0df007": {
     "views": []
    },
    "d3394d30b0314a7296bf25a3a14f331e": {
     "views": []
    },
    "d4b53904538044b5bc8e0c191973965f": {
     "views": []
    },
    "d73baebd586b4732a5dce1a21ad65345": {
     "views": []
    },
    "dbecbe42a32741548d9a17d182f0efd4": {
     "views": []
    },
    "dc7b2c179a4c434781c98a6454d032eb": {
     "views": []
    },
    "dcbdf7cd20d941bb9c66b32095ff5421": {
     "views": []
    },
    "deef5beeae124e418e4735d843f8592a": {
     "views": []
    },
    "e11094bdaaaa47bebc4c8937212e9379": {
     "views": []
    },
    "e52c4739c1884122a5e7a75bee5b94f7": {
     "views": []
    },
    "e9449bb277e94489b7f1a581e89b8e0f": {
     "views": []
    },
    "e99b192e48bd4753989fd0869f57f0b5": {
     "views": []
    },
    "eec2431d129c431ea749b5278b7ee655": {
     "views": []
    },
    "f1d067738fe04910a9caa69afd6f64c1": {
     "views": []
    },
    "f2228dd97a5f4827b4ee542f23d3c0a9": {
     "views": []
    },
    "f27ce1d20c9e4023a58b52f74be448b3": {
     "views": []
    },
    "f6218c5b911c4eaa8222390bc8535584": {
     "views": []
    },
    "f7f3a4dc012046caabc30a69bd6c6e48": {
     "views": []
    },
    "f91f717850e64af396d3eec7eaf55dfd": {
     "views": []
    },
    "fb5f003a40a24bccbd0642518a59de09": {
     "views": []
    },
    "fc1c4ecbbe5049e0aebf1883fbdcc21f": {
     "views": []
    },
    "fcb816bc42c34be49b7375a6d2157736": {
     "views": []
    },
    "fef238c7fa754cfeb9dbebfd2c8f3d37": {
     "views": []
    }
   },
   "version": "1.1.1"
  }
 },
 "nbformat": 4,
 "nbformat_minor": 1
}
